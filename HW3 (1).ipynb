{
  "cells": [
    {
      "cell_type": "markdown",
      "metadata": {
        "id": "KdHI8a1S9iUn"
      },
      "source": [
        "# ORIE 4580/5580/5581 Assignment 3\n",
        "\n",
        "#### Students: Danielle Xu (dzx4) and Vicki Yang (vzy3)\n",
        "\n",
        "### Github link: [example Github link](https://github.com/SidBanerjee/ORIE4580-Simulation/blob/main/Notebooks/Unit0-Intro_Demos.ipynb)\n"
      ]
    },
    {
      "cell_type": "markdown",
      "metadata": {
        "id": "SWIW16cwI0bB"
      },
      "source": [
        "### Instructions\n",
        "\n",
        "\n",
        "* Due Friday September 22, at 11.59am on Gradescope.\n",
        "* Assignment .ipynb files available for download on [Canvas](https://canvas.cornell.edu/courses/56826#:~:text=Assignments-,Assignments,-Assignments%20Module%20publish). Do all your work in provided notebook (text answers typeset in markdown; show all required code and generate plots inline), and then generate and submit a pdf.\n",
        "* Ideally do assignments in groups of 2, and submit a single pdf with both names\n",
        "* Please show your work and clearly mark your answers.\n",
        "* You can use any code fragments given in class, found online (for example, on StackOverflow), or generated via Bard or ChatGPT (you are encouraged to use these for first drafts) **with proper referencing**. You can also discuss with others (again, please reference them if you do so); but you must write your final answers on your own as a team.\n",
        "\n",
        "\n",
        "\n",
        "### Suggested reading\n",
        "\n",
        "Chapters 7 (you can skim through this), and chapters 8 and 9 of [Introduction to Probability](https://chance.dartmouth.edu/teaching_aids/books_articles/probability_book/book.html) by Grinstead and Snell.\n",
        "\n",
        "Chapter 3 and chapter 4 (up to section 4.5) of [Simulation by Ross](https://catalog.library.cornell.edu/catalog/12745977)."
      ]
    },
    {
      "cell_type": "code",
      "execution_count": 2,
      "metadata": {
        "colab": {
          "base_uri": "https://localhost:8080/"
        },
        "id": "YzOh1B9iurWd",
        "outputId": "cfb7281c-e8b3-4872-f3f2-19173788d500"
      },
      "outputs": [
        {
          "output_type": "stream",
          "name": "stdout",
          "text": [
            "Requirement already satisfied: scipy in /usr/local/lib/python3.10/dist-packages (1.11.2)\n",
            "Requirement already satisfied: numpy<1.28.0,>=1.21.6 in /usr/local/lib/python3.10/dist-packages (from scipy) (1.23.5)\n"
          ]
        }
      ],
      "source": [
        "pip install scipy"
      ]
    },
    {
      "cell_type": "code",
      "execution_count": 3,
      "metadata": {
        "id": "upFYbOmHI4Uv"
      },
      "outputs": [],
      "source": [
        "#importing necessary packages\n",
        "\n",
        "import numpy as np\n",
        "import matplotlib.pyplot as plt\n",
        "import scipy.stats\n",
        "%matplotlib inline"
      ]
    },
    {
      "cell_type": "markdown",
      "metadata": {
        "id": "lAy475sN9iUs"
      },
      "source": [
        "___\n",
        "___\n",
        "\n",
        "## Question 1: Combining LCGs (20 points)\n",
        "\n",
        "In order to avoid biases, simulations should not use anywhere near the full period of an LCG (otherwise, the random sequence repeats\\ldots). For example, a typical traffic simulator may have $10,000$ vehicles, each experiencing thousands of random disturbances, thus needing around $10^7$ random samples per replication -- for this, an LCG using $m=2^{31}-1\\approx 2\\times 10^9$ is insufficient, as after $100$ replications the sequences get correlated.\n",
        "\n",
        "One method to combine multiple LCGs to obtain a generator with a longer period is to add a smaller period LCG to it. For example, suppose we have two generators $X_{n+1}  =  (a_1 X_n) \\mbox{ mod } m_1$ and $Y_{n+1}  =  (a_2 Y_n) \\mbox{ mod } m_2$, with $m_1>m_2$. We can derive a combined generator by setting $Z_n  =  (X_n + Y_n) \\mbox{ mod } m_1$. If properly designed, the resulting period can be on the order of $m_1m_2$. We will now study a small example to see how this works.\n"
      ]
    },
    {
      "cell_type": "markdown",
      "metadata": {
        "id": "-geWMEJp9iUt"
      },
      "source": [
        "___\n",
        "**(a)** Consider two LCGs, $x_{n+1} = (5 x_n) \\mod 16$ and $y_{n+1} = (2 y_n) \\mod 7$. Starting both with seed $x_0 = y_0 = 1$, plot the sequences $x_n, y_n$ using the clock visualization introduced in class (separate plot for each sequence; you can use and modify the code in Demo-PRNGs.ipynb on Canvas).\n",
        "___"
      ]
    },
    {
      "cell_type": "code",
      "execution_count": null,
      "metadata": {
        "id": "5jsoc-t6D-Q7"
      },
      "outputs": [],
      "source": [
        "# Functions to visualize LCG sequence on clock (see demo notebook)\n",
        "def LCG(n, m=2**31-1, a=1103515245, c=12345, seed=1):\n",
        "    \"\"\"\n",
        "    Generate a pseudorandom sequence using a Linear Congruential Generator (LCG).\n",
        "\n",
        "    Parameters:\n",
        "    n (int): The number of pseudorandom numbers to generate.\n",
        "    m (int): The modulus value (default is 2^31-1, following glibc specifications).\n",
        "    a (int): The multiplier value (default is 1103515245, following glibc specifications).\n",
        "    c (int): The increment value (default is 12345, following glibc specifications).\n",
        "    seed (int): The initial seed value (default is 1).\n",
        "\n",
        "    Returns:\n",
        "    numpy.ndarray: An array of pseudorandom numbers in the range [0, 1).\n",
        "    \"\"\"\n",
        "    # Initialize an array to store the generated pseudorandom numbers\n",
        "    output = np.zeros(n)\n",
        "\n",
        "    x = seed\n",
        "    for i in range(n):\n",
        "        # Calculate the pseudorandom number and normalize it to [0, 1)\n",
        "        output[i] = (x + 1.0) / (m + 1.0)\n",
        "\n",
        "        # Update the LCG state using the specified parameters\n",
        "        x = (a * x + c) % m\n",
        "\n",
        "    return output\n",
        "\n",
        "def plot_clock_face(m, fig, annotate=False):\n",
        "    \"\"\"\n",
        "    Plot points on a unit circle representing the LCG sequence on a clock face.\n",
        "\n",
        "    Parameters:\n",
        "    m (int): The modulus value for the LCG sequence.\n",
        "    fig (matplotlib.figure.Figure): The figure object to draw on.\n",
        "    annotate (bool): Whether to annotate points with their index.\n",
        "\n",
        "    Returns:\n",
        "    None\n",
        "    \"\"\"\n",
        "    # Plot m points on the unit circle\n",
        "    for i in range(m):\n",
        "        theta = 2.0 * np.pi * i / m\n",
        "        plt.plot(np.sin(theta), np.cos(theta), 'rs', markersize = 10)\n",
        "        if annotate:\n",
        "            plt.annotate(str(i), (np.pi/2 - theta, 1.05), xycoords='polar')\n",
        "\n",
        "def plot_clock_path(m, x, fig, color='y'):\n",
        "    \"\"\"\n",
        "    Plot the path of an LCG sequence on a clock face.\n",
        "\n",
        "    Parameters:\n",
        "    m (int): The modulus value for the LCG sequence.\n",
        "    x (numpy.ndarray): The LCG sequence.\n",
        "    fig (matplotlib.figure.Figure): The figure object to draw on.\n",
        "    color (str): The color for the path.\n",
        "\n",
        "    Returns:\n",
        "    None\n",
        "    \"\"\"\n",
        "    # Plot the seed node\n",
        "    theta_0 = 2.0 * np.pi * (x[0] * (m + 1) - 1) / m\n",
        "    plt.plot(np.sin(theta_0), np.cos(theta_0), 'gs', markersize = 10)\n",
        "\n",
        "    # Plot the path of the LCG sequence\n",
        "    for i in range(len(x) - 1):\n",
        "        theta_start = 2.0 * np.pi * (x[i] * (m + 1) - 1) / m\n",
        "        theta_end = 2.0 * np.pi * (x[i + 1] * (m + 1) - 1) / m\n",
        "        x_start = np.sin(theta_start)\n",
        "        y_start = np.cos(theta_start)\n",
        "        del_x = np.sin(theta_end) - np.sin(theta_start)\n",
        "        del_y = np.cos(theta_end) - np.cos(theta_start)\n",
        "        if abs(del_x) > 0 or abs(del_y) > 0:\n",
        "            plt.arrow(x_start, y_start, del_x, del_y,\n",
        "                      length_includes_head=True, head_width=0.05, head_length=0.1, fc=color, ec=color)\n"
      ]
    },
    {
      "cell_type": "code",
      "execution_count": null,
      "metadata": {
        "id": "GRvFbLtFEC16",
        "outputId": "9caea3ec-4b49-4219-a6bd-27f7e263b517"
      },
      "outputs": [
        {
          "data": {
            "image/png": "[encoded data removed]",
            "text/plain": [
              "<Figure size 500x500 with 1 Axes>"
            ]
          },
          "metadata": {},
          "output_type": "display_data"
        },
        {
          "name": "stdout",
          "output_type": "stream",
          "text": [
            "[0.11764706 0.35294118 0.58823529 0.82352941 0.11764706 0.35294118\n",
            " 0.58823529 0.82352941 0.11764706 0.35294118 0.58823529 0.82352941\n",
            " 0.11764706 0.35294118 0.58823529 0.82352941 0.11764706]\n"
          ]
        }
      ],
      "source": [
        "# Function to generate pseudorandom sequence using LCG\n",
        "# Set default parameters to glibc specifications (see demo notebook)\n",
        "\n",
        "# Question: consider two LCGs, 𝑥𝑛+1=(5𝑥𝑛)mod16 and  𝑦𝑛+1=(2𝑦𝑛)mod7. Starting both with seed  𝑥0=𝑦0=1\n",
        "\n",
        "m1 = 16\n",
        "a1 = 5\n",
        "c1 = 0\n",
        "seed1 = 1\n",
        "\n",
        "fig = plt.figure(figsize=(5,5))\n",
        "x = LCG(n=m1+1,m=m1,a=a1,c=c1,seed = seed1)\n",
        "\n",
        "plot_clock_face(m1,fig,annotate = True)\n",
        "plot_clock_path(m1,x,fig)\n",
        "#plt.axis('equal')\n",
        "plt.axis('off')\n",
        "plt.show()\n",
        "\n",
        "print(x)"
      ]
    },
    {
      "cell_type": "code",
      "execution_count": null,
      "metadata": {
        "id": "1jTbFKH9urWf",
        "outputId": "dc88683a-4e1c-4a7d-b0bc-c3c340d07758"
      },
      "outputs": [
        {
          "data": {
            "image/png": "[encoded data removed]",
            "text/plain": [
              "<Figure size 500x500 with 1 Axes>"
            ]
          },
          "metadata": {},
          "output_type": "display_data"
        }
      ],
      "source": [
        "# Consider two LCGs,  𝑥𝑛+1=(5𝑥𝑛)mod16 and  𝑦𝑛+1=(2𝑦𝑛)mod7. Starting both with seed  𝑥0=𝑦0=1\n",
        "\n",
        "m2 = 7\n",
        "a2 = 2\n",
        "c2 = 0\n",
        "seed2 = 1\n",
        "\n",
        "fig = plt.figure(figsize=(5,5))\n",
        "y = LCG(n=m2+1,m=m2,a=a2,c=c2,seed = seed2)\n",
        "# y = LCG(n=17,m=m2,a=a2,c=c2,seed = seed2)\n",
        "\n",
        "plot_clock_face(m2,fig,annotate = True)\n",
        "plot_clock_path(m2,y,fig)\n",
        "#plt.axis('equal')\n",
        "plt.axis('off')\n",
        "plt.show()\n",
        "\n"
      ]
    },
    {
      "cell_type": "markdown",
      "metadata": {
        "id": "FDfX7mQz9iUv"
      },
      "source": [
        "___\n",
        "**(b)** Next, define a combined LCG as $z_{n} = (x_n+y_n) \\mod 16$. Starting both the base LCGs with seed $x_0 = y_0 = 1$, plot the sequence $z_n$ using the clock visualization given in class.\n",
        "___"
      ]
    },
    {
      "cell_type": "code",
      "execution_count": null,
      "metadata": {
        "id": "pLwpyLwZEIHk",
        "outputId": "4506c7db-84cd-458b-ba9f-48ab32cb816a"
      },
      "outputs": [
        {
          "data": {
            "image/png": "[encoded data removed]",
            "text/plain": [
              "<Figure size 500x500 with 1 Axes>"
            ]
          },
          "metadata": {},
          "output_type": "display_data"
        }
      ],
      "source": [
        "# Calculate Z\n",
        "\n",
        "\n",
        "y2 = LCG(n=17,m=m2,a=a2,c=c2,seed = seed2)\n",
        "z_a = x+y2\n",
        "mod_z = z_a\n",
        "# un-normalize z\n",
        "z= ((x*(m1+1)-1) + (y2*(m2+1)-1))% 16\n",
        "# print(z_a)\n",
        "\n",
        "m_z = 16\n",
        "c_z = 0\n",
        "seed_z = 1\n",
        "\n",
        "\n",
        "fig = plt.figure(figsize=(5,5))\n",
        "\n",
        "# z = LCG(n=m_z+1,m=m_z,a=z_a[i],c=c_z,seed = seed_z)\n",
        "\n",
        "plot_clock_face(m_z,fig,annotate = True)\n",
        "plot_clock_path(m_z,z,fig)\n",
        "plt.axis('off')\n",
        "plt.show()"
      ]
    },
    {
      "cell_type": "markdown",
      "metadata": {
        "id": "W7FAnv8z9iUx"
      },
      "source": [
        "___\n",
        "**(c)** What are the periods of the pseudo-random sequences $x_n, y_n$ and $z_n$?\n",
        "___"
      ]
    },
    {
      "cell_type": "markdown",
      "metadata": {
        "id": "XAWLfsGGMO7X"
      },
      "source": [
        "### Ans.\n",
        "The periods of each: $x_n = 4, y_n$ = 3 and $z_n = 12$"
      ]
    },
    {
      "cell_type": "markdown",
      "metadata": {
        "id": "wmL74RyC9iUz"
      },
      "source": [
        "___\n",
        "___\n",
        "## Question 2: inverting cdfs (25 pts)\n",
        "\n",
        "In class, we defined $F^{-1}(y)$ for a continuous increasing cdf $F(x)$ as the unique $x$ such that $F(x) = y$ (for $y\\in[0,1]$). More generally, for any cdf $F$ we can use the inversion method based on its generalized inverse or *pseudoinverse*:\n",
        "\t$$F^{-1}(y) = \\inf\\{x|F(x)\\geq y\\}$$\n",
        "\t(where $\\inf$ denotes the \\href{https://en.wikipedia.org/wiki/Infimum_and_supremum}{infimum}; if you have not seen this before, treat it as minimum).\n"
      ]
    },
    {
      "cell_type": "markdown",
      "metadata": {
        "id": "k8gt9TWM9iU0"
      },
      "source": [
        "___\n",
        "**(a)** Find the pseudoinverse $F^{-1}(y)$ for the following mixed (discrete/continuous) cdf\n",
        "\t$$F(x)=\n",
        "\t\\begin{cases}\n",
        "\t0 & \\mbox{for $x < 0$}\\\\\n",
        "\tx & \\mbox{for $0 \\leq x < \\frac{1}{2}$}, \\\\\n",
        "\t\\frac{1}{2} & \\mbox{for $\\frac{1}{2}\\leq x < 1$}, \\\\\n",
        "\t1 & \\mbox{for $x\\geq 1$}\n",
        "\t \\end{cases}$$\n",
        "___"
      ]
    },
    {
      "cell_type": "markdown",
      "metadata": {
        "id": "h4Vtj9TBMr6A"
      },
      "source": [
        "### Ans.\n",
        "\n",
        "$ F^{-1}(y)= y $ for $0 \\leq x < \\frac{1}{2}$"
      ]
    },
    {
      "cell_type": "markdown",
      "metadata": {
        "id": "z5IrvAkx9iU1"
      },
      "source": [
        "___\n",
        "**(b)** Use the above definition to get an inversion algorithm for the $Geometric(p)$ distribution (with pmf $p(k) = p(1-p)^{k-1}\\,\\forall\\,k\\in\\{1,2,3,\\ldots\\}$). Implement this, and generate and plot the histogram of 1000 samples from a $Geometric(0.42)$ distribution.\n",
        "(For this, it may be useful for you to first understand how the [scipy.stats](https://docs.scipy.org/doc/scipy/reference/stats.html) library works, and in particular, how it provides methods to compute various statistics for many different random variables, including the [geometric r.v.](https://docs.scipy.org/doc/scipy/reference/generated/scipy.stats.geom.html#scipy.stats.geom))\n",
        "___"
      ]
    },
    {
      "cell_type": "code",
      "execution_count": 47,
      "metadata": {
        "id": "JQIulHgEJrwz",
        "colab": {
          "base_uri": "https://localhost:8080/",
          "height": 538
        },
        "outputId": "72163375-10b5-4b3d-e70d-25a02fd6b9db"
      },
      "outputs": [
        {
          "output_type": "execute_result",
          "data": {
            "text/plain": [
              "(array([0.40818619, 0.23525569, 0.10007145, 0.0711034 , 0.02370113,\n",
              "        0.02018985, 0.00965602, 0.00614474, 0.00175564, 0.00175564]),\n",
              " array([3.99841476e-04, 1.13958587e+00, 2.27877189e+00, 3.41795792e+00,\n",
              "        4.55714395e+00, 5.69632997e+00, 6.83551600e+00, 7.97470202e+00,\n",
              "        9.11388805e+00, 1.02530741e+01, 1.13922601e+01]),\n",
              " <BarContainer object of 10 artists>)"
            ]
          },
          "metadata": {},
          "execution_count": 47
        },
        {
          "output_type": "display_data",
          "data": {
            "text/plain": [
              "<Figure size 640x480 with 1 Axes>"
            ],
            "image/png": "[encoded data removed]"
          },
          "metadata": {}
        }
      ],
      "source": [
        "U = np.random.rand(1000)\n",
        "# inverse function F^-1(U) = log(1-x)/log(1-p)\n",
        "X = np.log(1-U)/np.log(1-0.42)\n",
        "\n",
        "plt.hist(X, density=True)"
      ]
    },
    {
      "cell_type": "markdown",
      "metadata": {
        "id": "TRn55xOT9iU3"
      },
      "source": [
        "___\n",
        "**(c)** The p.d.f. of the random variable $X$ is given by\n",
        "\t$$\n",
        "\tf(x) =\n",
        "\t\\begin{cases}\n",
        "\t\te^{x-2} & \\text{for }0 \\leq x \\leq 2, \\\\\n",
        "\t\te^{-x} & \\text{for }x > 2, \\\\\n",
        "\t\t0 & \\text{otherwise,}\n",
        "\t\\end{cases}\n",
        "\t$$\n",
        "\tDescribe and implement an inversion algorithm to generate samples of $X$. Generate 1,000 samples and plot a histogram. Compare the histogram and the p.d.f.\n"
      ]
    },
    {
      "cell_type": "markdown",
      "metadata": {
        "id": "dNmGPdu8OaiK"
      },
      "source": [
        "___\n",
        "\n",
        "### Ans."
      ]
    },
    {
      "cell_type": "code",
      "execution_count": 14,
      "metadata": {
        "id": "2bF1VUkGJEpI",
        "colab": {
          "base_uri": "https://localhost:8080/",
          "height": 448
        },
        "outputId": "d283798b-66de-4997-a0ad-e854acdfc2c7"
      },
      "outputs": [
        {
          "output_type": "execute_result",
          "data": {
            "text/plain": [
              "[<matplotlib.lines.Line2D at 0x7e6fb1ca9510>]"
            ]
          },
          "metadata": {},
          "execution_count": 14
        },
        {
          "output_type": "display_data",
          "data": {
            "text/plain": [
              "<Figure size 640x480 with 1 Axes>"
            ],
            "image/png": "[encoded data removed]"
          },
          "metadata": {}
        }
      ],
      "source": [
        "# generate uniform RVs\n",
        "# sample X by inputting the RVs into the inverse function F^-1(U)\n",
        "\n",
        "U = np.random.rand(1000)\n",
        "X = []\n",
        "\n",
        "for u in U:\n",
        "  if u >= 0 and u <= 2:\n",
        "    X.append(np.log(U)+2)\n",
        "  elif u > 2:\n",
        "    X.append(-np.log(U))\n",
        "\n",
        "plt.hist(X, density=True)\n",
        "\n",
        "x = np.arange(0,1, 0.001)\n",
        "\n",
        "y1 = np.exp(x-2)\n",
        "y2 = np.exp(-x)\n",
        "\n",
        "plt.plot(x, y1)\n",
        "plt.plot(x, y2)"
      ]
    },
    {
      "cell_type": "markdown",
      "metadata": {
        "id": "UqMEV_6i9iU4"
      },
      "source": [
        "___\n",
        "___\n",
        "\n",
        "## Question 3: Acceptance-Rejection (25 pts)\n",
        "\n",
        "Let the random variable $X$ have density\n",
        "$$f(x) = \\begin{cases} (5 x^4 + 4x^3 + 3x^2+1)/4  & \\text{ for } 0 \\leq x \\leq 1, \\\\\n",
        "0 & \\text{ otherwise. } \\end{cases}$$"
      ]
    },
    {
      "cell_type": "markdown",
      "metadata": {
        "id": "dNp6yFaQ9iU5"
      },
      "source": [
        "___\n",
        "**(a)** Give an acceptance-rejection algorithm to generate samples of\n",
        "\t$X$.\n",
        "\n",
        "___"
      ]
    },
    {
      "cell_type": "markdown",
      "metadata": {
        "id": "AKnYl0kLLd37"
      },
      "source": [
        "### Ans.\n"
      ]
    },
    {
      "cell_type": "code",
      "execution_count": null,
      "metadata": {
        "id": "y1c8ExQxLdEB"
      },
      "outputs": [],
      "source": [
        "# Define function\n",
        "def function(x):\n",
        "    return (5*(x**4) + 4*(x**3) + 3*(x**2) + 1)/4\n",
        "\n",
        "def accept_reject(N):\n",
        "    a = 0\n",
        "    b = 1\n",
        "    M = 3.25\n",
        "\n",
        "    n_accept = 0\n",
        "    x_list = []\n",
        "    total_tries = N\n",
        "    while n_accept < N:\n",
        "        z1 = a + (b-a)*np.random.rand()\n",
        "        z2 = np.random.rand()\n",
        "#         print(f\"z1: {z1/M}\")\n",
        "#         print(f\"z2: {z2}\")\n",
        "        if z2 < function(z1)/ M:\n",
        "            n_accept += 1\n",
        "            x_list.append(z1)\n",
        "        else:\n",
        "            total_tries+=1\n",
        "    return x_list, total_tries\n",
        "\n",
        "# y,z=accept_reject(5)\n",
        "# print(y)\n",
        "# print(z)"
      ]
    },
    {
      "cell_type": "markdown",
      "metadata": {
        "id": "96QbSXGn9iU8"
      },
      "source": [
        "___\n",
        "**(b)** On average, how many samples from the uniform distribution over $[0, 1]$ would your acceptance-rejection algorithm need in order to generate one sample of $X$?\n",
        "___"
      ]
    },
    {
      "cell_type": "code",
      "execution_count": null,
      "metadata": {
        "id": "hVswVKmTurWh",
        "outputId": "27a4aaf4-2f2f-41c8-e74d-845baedf9af3"
      },
      "outputs": [
        {
          "name": "stdout",
          "output_type": "stream",
          "text": [
            "3.25813\n"
          ]
        }
      ],
      "source": [
        "num_samples = []\n",
        "for i in range(100000):\n",
        "    y,z = accept_reject(1)\n",
        "    num_samples.append(z)\n",
        "\n",
        "# print(num_samples)\n",
        "average_samples = sum(num_samples)/len(num_samples)\n",
        "print(average_samples)"
      ]
    },
    {
      "cell_type": "markdown",
      "metadata": {
        "id": "w64tpH0bO_Hb"
      },
      "source": [
        "### Ans.\n"
      ]
    },
    {
      "cell_type": "markdown",
      "metadata": {
        "id": "YudPqIiq9iU9"
      },
      "source": [
        "___\n",
        "**(c)** Use your algorithm in (a) to generate 2,500 samples of $X$. Note that this will require more than 2500 uniform random variables.\n",
        "\n",
        "Plot a histogram of your sample   and compare it against the true pdf.\n",
        "___\n"
      ]
    },
    {
      "cell_type": "code",
      "execution_count": null,
      "metadata": {
        "id": "7-qoF2L_LmIF",
        "outputId": "f8244879-1e89-4361-e340-e2d85e15d417"
      },
      "outputs": [
        {
          "data": {
            "image/png": "[encoded data removed]",
            "text/plain": [
              "<Figure size 640x480 with 1 Axes>"
            ]
          },
          "metadata": {},
          "output_type": "display_data"
        },
        {
          "name": "stdout",
          "output_type": "stream",
          "text": [
            "Total tries: 8349\n"
          ]
        }
      ],
      "source": [
        "samples, total_tries = accept_reject(2500)\n",
        "\n",
        "# Histogram of samples\n",
        "plt.hist(samples, bins=100, density=True, label='Sampled Data', color='lightblue')\n",
        "\n",
        "# Plot true pdf\n",
        "x_values = np.linspace(0, 1, 1000)\n",
        "true_pdf = function(x_values)\n",
        "plt.plot(x_values, true_pdf, color='r', label='True PDF')\n",
        "\n",
        "# Graph\n",
        "plt.xlabel('Random Variable X')\n",
        "plt.ylabel('Probability Density')\n",
        "plt.legend()\n",
        "plt.title('Histogram of Sampled Data vs. True PDF')\n",
        "plt.show()\n",
        "\n",
        "print(f\"Total tries: {total_tries}\")"
      ]
    },
    {
      "cell_type": "markdown",
      "metadata": {
        "id": "zI57JDhK9iU_"
      },
      "source": [
        "___\n",
        "___\n",
        "\n",
        "## Question 4: Generalized Acceptance-Rejection (30 pts)\n",
        "\n",
        "We want to generate a $\\mathcal{N}(0,1)$ rv $X$, with pdf\n",
        "$f(x) = \\frac{e^{-x^2/2}}{\\sqrt{2\\pi}} $,\n",
        "using generalized acceptance-rejection."
      ]
    },
    {
      "cell_type": "markdown",
      "metadata": {
        "id": "ycCxosPw9iVA"
      },
      "source": [
        "___\n",
        "\n",
        "**(a)** First, suppose we choose the proposal distribution to be a \\emph{Laplace} (i.e., two-sided Exponential) distribution, which has pdf $g(x) = e^{-|x|}/2$. Describe (and implement) an inversion algorithm to get samples from this distribution.\n",
        "___"
      ]
    },
    {
      "cell_type": "code",
      "execution_count": 6,
      "metadata": {
        "id": "iUMdO2jTDC5n",
        "colab": {
          "base_uri": "https://localhost:8080/"
        },
        "outputId": "c955b3eb-1792-4f32-bed3-6d2a8c77c83b"
      },
      "outputs": [
        {
          "output_type": "stream",
          "name": "stdout",
          "text": [
            "[       nan        nan 2.00963845 2.21360636        nan 0.39737876\n",
            " 2.21841581        nan        nan 1.86731369        nan        nan\n",
            "        nan        nan        nan        nan        nan 1.27419232\n",
            "        nan 2.21328136 0.47276874 0.62198512        nan        nan\n",
            "        nan 2.58515274 1.04402593 0.43619323        nan        nan\n",
            "        nan        nan 0.63182786        nan 1.91665362        nan\n",
            "        nan 2.25162695 2.28123236        nan        nan 2.08702749\n",
            "        nan        nan        nan        nan 2.37406085        nan\n",
            "        nan        nan        nan 2.69613081        nan 1.51008527\n",
            "        nan 1.08223949        nan 0.9988804  1.95624375        nan\n",
            "        nan 1.36638647 1.41734785        nan        nan        nan\n",
            " 0.6259127         nan        nan        nan        nan        nan\n",
            " 0.99759096 2.53587212        nan        nan        nan        nan\n",
            " 0.24235389        nan 0.78684068        nan 0.5843527  2.47072142\n",
            "        nan 0.762511          nan        nan 0.94503903 0.68469742\n",
            "        nan        nan        nan        nan        nan 1.29013807\n",
            " 1.6758203         nan        nan 1.12500947        nan 1.05057909\n",
            "        nan        nan 0.5029636         nan        nan        nan\n",
            "        nan        nan 2.78173377 0.65535969        nan        nan\n",
            "        nan        nan        nan 0.88335817 2.17089401        nan\n",
            "        nan 0.72192081 0.53718148 3.68572778 1.4162196         nan\n",
            "        nan 0.68218403        nan        nan        nan        nan\n",
            " 0.76571936 0.47982438        nan 0.43733771        nan        nan\n",
            " 1.63266715        nan 0.50290012 0.86360169 2.54980882 1.15403125\n",
            " 1.74777445        nan 0.44889855        nan 2.03366891        nan\n",
            "        nan        nan 0.79303554        nan        nan        nan\n",
            " 1.62637657        nan 1.89290849 1.73652558 0.38641079 2.59121059\n",
            "        nan 2.48617616 0.15453043 1.07958324 0.8713951         nan\n",
            "        nan        nan        nan 1.02402999        nan 0.58682928\n",
            " 2.59995523        nan        nan 0.80127805        nan 1.42531661\n",
            " 1.01679951        nan        nan 1.86139252 1.47111854 0.38354692\n",
            " 1.273687          nan 1.82649539 0.88726313 1.83124276 1.28836816\n",
            " 1.0171437  0.84916754 1.044058   1.38877012        nan        nan\n",
            "        nan 0.78779209 1.3589477         nan        nan        nan\n",
            "        nan        nan        nan 2.22068267        nan        nan\n",
            "        nan 2.21259825 1.46939612        nan        nan        nan\n",
            "        nan 2.03749954 0.69042399 0.80249138 1.29656709        nan\n",
            " 0.88032753 2.19222157 0.19583499        nan        nan 3.41672136\n",
            " 0.42186117 2.18820874        nan 2.07299946 1.2754443  1.1116238\n",
            " 1.63661778 0.79784543        nan        nan        nan        nan\n",
            "        nan        nan        nan        nan 0.33766564        nan\n",
            " 1.51639115        nan 1.21934321 1.18898936 0.82413765 0.42480155\n",
            " 0.75937965        nan        nan 1.08670203        nan 1.30896987\n",
            "        nan 0.66432626        nan 0.57139078        nan 1.41818971\n",
            "        nan        nan        nan        nan 1.11501942        nan\n",
            " 1.71684989        nan        nan        nan        nan        nan\n",
            "        nan 0.4073866  0.63981909        nan 1.34891953 0.31976234\n",
            "        nan        nan        nan        nan 0.92555584 2.13015411\n",
            "        nan 3.62234273        nan        nan        nan        nan\n",
            " 0.36462634 1.33880777 1.12834639 0.24791949 0.57823447        nan\n",
            " 1.52426558        nan 2.08346763 2.21419607 1.50737448        nan\n",
            " 2.23691005        nan        nan        nan 0.71670947 0.61183657\n",
            "        nan        nan 1.23677378        nan        nan        nan\n",
            "        nan        nan        nan        nan 1.6583316         nan\n",
            "        nan        nan 1.10730733 0.43328325 0.77215667        nan\n",
            "        nan        nan        nan 1.25127119 2.45558381        nan\n",
            "        nan        nan        nan        nan        nan 0.7654141\n",
            " 0.78688065        nan 0.72688934        nan        nan 1.60315279\n",
            " 0.60516516        nan        nan 0.35645495 1.23953452 0.72512814\n",
            " 0.64570325        nan        nan        nan        nan 1.68921476\n",
            " 1.01801327        nan 0.53675155        nan 0.30831323        nan\n",
            "        nan 0.52149951        nan 0.61723427 1.72031358        nan\n",
            "        nan        nan        nan 0.63759913 1.0463499         nan\n",
            " 1.00310525        nan        nan 1.54683571        nan 1.09393661\n",
            "        nan        nan 0.40145026 0.96104995 1.03487443        nan\n",
            "        nan        nan        nan 2.11436998        nan 2.03231732\n",
            "        nan        nan        nan        nan 1.02639108        nan\n",
            " 0.79795097        nan 2.18975571        nan        nan 1.95820504\n",
            " 0.62027391        nan 0.47782653        nan        nan        nan\n",
            "        nan        nan        nan        nan        nan        nan\n",
            " 1.02580508        nan        nan        nan        nan 0.8481468\n",
            "        nan        nan        nan        nan        nan        nan\n",
            "        nan        nan        nan        nan 2.08982812 0.47627167\n",
            "        nan        nan        nan        nan 0.57266146        nan\n",
            " 1.48388069 0.85719545        nan 0.97903165        nan        nan\n",
            "        nan        nan 2.34364493 0.5005346         nan 2.6709227\n",
            "        nan 1.2410812         nan        nan        nan 1.58027239\n",
            "        nan 1.13713103 1.88884808        nan 1.71198043        nan\n",
            " 1.94548009        nan 2.10874849 1.75280924        nan        nan\n",
            "        nan 2.43476453        nan        nan        nan 1.50160566\n",
            "        nan        nan 1.03716894        nan        nan        nan\n",
            "        nan 2.56068513        nan        nan 1.05418738        nan\n",
            "        nan        nan        nan 1.17170415 0.8906325  1.60916\n",
            " 1.51667338        nan        nan        nan        nan 1.30489406\n",
            " 1.35773975        nan        nan 0.73694884 2.03299694        nan\n",
            " 0.59258491        nan 2.1945919  0.90425978 0.06857422        nan\n",
            "        nan 0.73214948 1.03678023 0.60539779        nan 1.85445738\n",
            " 1.11170579        nan 0.45524182        nan        nan        nan\n",
            "        nan        nan        nan 0.66382896        nan        nan\n",
            "        nan        nan 1.60644108 0.50766897 1.20071902        nan\n",
            "        nan        nan 1.22897812 0.73446612        nan 2.15469729\n",
            "        nan 1.02541748        nan        nan        nan 0.81306087\n",
            "        nan        nan 1.57162751 1.65854301        nan 1.90574112\n",
            " 0.48059136 1.49429254 0.5810472         nan        nan 1.60126457\n",
            " 1.70539399        nan 0.86738633        nan 1.35983579        nan\n",
            " 0.29471908        nan        nan        nan        nan        nan\n",
            " 1.72453412        nan 0.98797645 1.03406822 1.16850729        nan\n",
            "        nan 0.67858174        nan        nan        nan        nan\n",
            " 1.56028508 2.21310823        nan        nan 1.04969932 0.61584458\n",
            "        nan        nan        nan        nan        nan        nan\n",
            "        nan        nan        nan 0.99328708 1.30244513 0.82686853\n",
            "        nan        nan        nan 0.64204807        nan        nan\n",
            "        nan 0.35695353 1.11483837        nan        nan        nan\n",
            "        nan        nan        nan        nan 1.59664984        nan\n",
            "        nan 2.34766568        nan 1.12691575        nan 1.18067299\n",
            " 0.51261659        nan        nan        nan        nan 1.96860989\n",
            " 0.57167208        nan        nan 0.83723187        nan 1.39308585\n",
            " 1.31053212        nan        nan        nan        nan        nan\n",
            "        nan        nan        nan 1.53011393        nan 1.58710744\n",
            "        nan 1.73547555 1.89895935        nan 0.34254953        nan\n",
            "        nan        nan        nan        nan        nan        nan\n",
            "        nan        nan 1.23106916 0.30272706        nan        nan\n",
            " 0.99242221 0.96577103        nan        nan        nan 0.96931696\n",
            " 2.38320045        nan        nan 1.14254313        nan        nan\n",
            "        nan        nan        nan 0.95392682        nan 1.22818598\n",
            " 0.46077477 0.73920911 1.00557469        nan 0.66593368 1.07656168\n",
            " 1.69376422        nan        nan        nan        nan 1.13604388\n",
            "        nan        nan        nan        nan 1.62452824 0.58570604\n",
            " 0.63846738        nan        nan        nan        nan        nan\n",
            "        nan        nan 1.17487081 0.81653528        nan        nan\n",
            "        nan        nan        nan        nan        nan        nan\n",
            " 1.8037195  2.15541873        nan        nan        nan        nan\n",
            " 0.42999839        nan        nan        nan        nan        nan\n",
            "        nan        nan        nan 0.80298925        nan 0.68721642\n",
            " 1.80507328 0.64972717        nan 1.65973693        nan        nan\n",
            "        nan 1.36086318 1.92611621        nan 0.96474991        nan\n",
            " 0.70009086        nan 0.67124144 0.33512711        nan        nan\n",
            " 0.83544167 1.22888547 0.68598547        nan 0.50089341        nan\n",
            "        nan        nan        nan        nan 1.63244145        nan\n",
            "        nan 1.23634295        nan 1.86568787        nan        nan\n",
            " 1.57599821 0.28985658        nan        nan        nan        nan\n",
            "        nan        nan 2.00971429        nan 1.0606046         nan\n",
            "        nan        nan        nan        nan        nan 1.77449301\n",
            "        nan        nan        nan        nan        nan        nan\n",
            " 1.22450979 1.13536169        nan        nan 1.87400664        nan\n",
            "        nan        nan 0.12548808        nan        nan        nan\n",
            "        nan        nan        nan 1.65211421 0.66254069 0.75435941\n",
            "        nan 1.33578741        nan        nan 1.76713109 1.52766056\n",
            "        nan 1.12739434 1.82569221 1.58600119        nan        nan\n",
            "        nan        nan        nan 0.23056471        nan        nan\n",
            " 0.9458962         nan        nan        nan        nan        nan\n",
            " 0.50943833        nan 1.10842248        nan        nan        nan\n",
            "        nan        nan        nan        nan 1.2335287  1.61955727\n",
            " 0.60086402        nan 1.13660392 0.59821167 2.45628376        nan\n",
            "        nan 0.89399828        nan        nan 0.61758227        nan\n",
            "        nan        nan        nan 1.08227362 0.79617191        nan\n",
            " 0.40812244        nan        nan        nan 2.1318421         nan\n",
            " 0.62277185 0.70292412 2.16789233        nan        nan        nan\n",
            "        nan 1.4755194  2.15640455        nan        nan        nan\n",
            " 0.55245294 1.46180101        nan 1.82708879 0.72165882 1.07780389\n",
            "        nan        nan 0.59107491 0.90156169        nan 2.46365186\n",
            "        nan        nan 2.34367276 0.59077199        nan        nan\n",
            "        nan 0.61365817        nan 1.65809125        nan        nan\n",
            " 1.12925931 0.41996411        nan 0.64910653        nan        nan\n",
            "        nan        nan        nan        nan        nan        nan\n",
            "        nan        nan        nan 1.78654973 0.65753293 0.76430014\n",
            " 0.82011364 0.61785283 1.678367          nan        nan 2.16019566\n",
            "        nan        nan 0.74377766        nan 0.89041314        nan\n",
            "        nan 0.70351767        nan 0.67213144        nan        nan\n",
            "        nan        nan        nan        nan        nan        nan\n",
            " 1.01065484        nan        nan        nan 2.87246915        nan\n",
            "        nan        nan        nan        nan        nan 2.21323822\n",
            "        nan        nan        nan        nan 0.55648558        nan\n",
            "        nan        nan 0.66606225        nan        nan        nan\n",
            "        nan        nan 2.07282435        nan        nan        nan\n",
            "        nan        nan        nan        nan        nan        nan\n",
            " 2.14289237        nan        nan        nan]\n"
          ]
        },
        {
          "output_type": "stream",
          "name": "stderr",
          "text": [
            "<ipython-input-6-d9c36d257b3b>:4: RuntimeWarning: invalid value encountered in sqrt\n",
            "  X = np.sqrt(-2*np.log(U*np.sqrt(2*np.pi)))\n"
          ]
        }
      ],
      "source": [
        "# first, generate uniform random vars\n",
        "# next, sample X by inputting the generated uniform rvs into the function G^-1(U)\n",
        "U = np.random.rand(1000)\n",
        "X = np.sqrt(-2*np.log(U*np.sqrt(2*np.pi)))\n",
        "\n",
        "print(X)"
      ]
    },
    {
      "cell_type": "markdown",
      "metadata": {
        "id": "w5uME6KO9iVB"
      },
      "source": [
        "___\n",
        "**(b)** Determine the smallest $k$ such that $kg(x)\\geq f(x)\\,\\forall\\,x\\in\\mathbb{R}$. Using this, propose (and implement) an acceptance-rejection algorithm for sampling $X\\sim\\mathcal{N}(0,1)$, and compute the expected number of samples needed for generating each sample.\n",
        "___"
      ]
    },
    {
      "cell_type": "markdown",
      "source": [
        "$$\n",
        "k*e^{-|x|}/2 \\geq \\frac{e^{-x^2/2}}{\\sqrt{2\\pi}} \\\\\n",
        "k \\geq \\frac{\\frac{e^{-x^2/2}}{\\sqrt{2\\pi}}}{e^{-|x|}/2} \\\\\n",
        "k \\geq \\frac{2\\sqrt{e}}{\\sqrt{\\pi}}e^{\\frac{-(|x|-1)^2}{2}} \\\\\n",
        "k \\geq \\sqrt{\\frac{2e}{\\pi}}e^{\\frac{-(|x|-1)^2}{2}} \\forall\\,x\\in\\mathbb{R}\n",
        "$$\n",
        "\n",
        "The smallest value of k such that $kg(x)\\geq f(x)\\,\\forall\\,x\\in\\mathbb{R}$ is equal to the maximum value of $\\frac{f(x)}{g(x)}$. $\\frac{f(x)}{g(x)}$ is maximized at $x=1$ so the smallest value of k such that $kg(x)\\geq f(x)\\,\\forall\\,x\\in\\mathbb{R}$ is $k=1.315$\n",
        "\n",
        "\\\\\n",
        "\n",
        "The expected number of samples needed for generating each sample is the number of times that a sample will be rejected before a sample is generated. Therefore, E[number of samples needed for a single acceptance] = 1/P(U $\\leq \\frac{f(x)}{1.315*g(x)}$) where $f(x) = \\frac{e^{-x^2/2}}{\\sqrt{2\\pi}}$ and $g(x) = \\frac{e^{-|x|}}{2}$"
      ],
      "metadata": {
        "id": "YZi4_wgc_95X"
      }
    },
    {
      "cell_type": "markdown",
      "metadata": {
        "id": "8Uoi08eu9iVD"
      },
      "source": [
        "\n",
        "___\n",
        "**(c)** Generate $1000$ samples from your method in part (b), and plot the histogram of the samples. Also report the average and 95\\% CI for the number of $U[0,1]$ samples needed to generate the $1000$ samples.\n",
        "___"
      ]
    },
    {
      "cell_type": "code",
      "execution_count": 45,
      "metadata": {
        "id": "5qVDE0RTDMIZ",
        "colab": {
          "base_uri": "https://localhost:8080/",
          "height": 466
        },
        "outputId": "56c72592-2ac0-4396-ac07-daa0c48bb436"
      },
      "outputs": [
        {
          "output_type": "stream",
          "name": "stdout",
          "text": [
            "Average number of samples needed to generate 1000 samples = 3676.470588235294\n",
            "95% confidence interval = [3.108725761580406, 4.244215414890181]\n"
          ]
        },
        {
          "output_type": "display_data",
          "data": {
            "text/plain": [
              "<Figure size 640x480 with 1 Axes>"
            ],
            "image/png": "[encoded data removed]"
          },
          "metadata": {}
        }
      ],
      "source": [
        "U = np.random.rand(1000)\n",
        "V = 1.316*np.random.rand(1000)\n",
        "\n",
        "X = []\n",
        "p = []\n",
        "j = 0\n",
        "\n",
        "for i in range(1000):\n",
        "  if V[i] < (np.exp((-U[i]**2)/2))/(np.sqrt(2*np.pi)):\n",
        "    X.append(U[i])\n",
        "    p.append(1)\n",
        "    j += 1\n",
        "  else:\n",
        "    if len(p) == j:\n",
        "        p.append(1)\n",
        "    else:\n",
        "      p[j] += 1\n",
        "\n",
        "\n",
        "plt.hist(X, density=True)\n",
        "\n",
        "E = np.mean(p)\n",
        "V = np.var(p)\n",
        "\n",
        "print(\"Average number of samples needed to generate 1000 samples = \" + str(1000*E))\n",
        "\n",
        "CI_lower = E - 1.96 * V/np.sqrt(1000)\n",
        "CI_upper = E + 1.96 * V/np.sqrt(1000)\n",
        "print(\"95% confidence interval = [\" + str(CI_lower) + \", \" + str(CI_upper) + \"]\")"
      ]
    },
    {
      "cell_type": "markdown",
      "metadata": {
        "id": "s7pvcQl7pgbx"
      },
      "source": [
        "___\n",
        "**(d)** Now, suppose instead we choose the proposal distribution to be a Cauchy  distribution with pdf $g(x) = \\frac{1}{\\pi(1+x^2)}$. Describe and implement an inversion algorithm to get samples from this distribution, and plot the histogram of 1000 samples from this distribution.\n",
        "___"
      ]
    },
    {
      "cell_type": "code",
      "execution_count": 15,
      "metadata": {
        "id": "XepRuz8MpqoG",
        "colab": {
          "base_uri": "https://localhost:8080/",
          "height": 685
        },
        "outputId": "3b27b333-b27d-4211-fccd-0d9da63d6d58"
      },
      "outputs": [
        {
          "output_type": "stream",
          "name": "stderr",
          "text": [
            "<ipython-input-15-a2aae3444359>:4: RuntimeWarning: invalid value encountered in sqrt\n",
            "  X = np.sqrt((1/(U*np.pi))-1)\n"
          ]
        },
        {
          "output_type": "execute_result",
          "data": {
            "text/plain": [
              "(array([0.57542311, 0.39871838, 0.15858117, 0.09967959, 0.08608692,\n",
              "        0.02718534, 0.01812356, 0.01359267, 0.01812356, 0.00906178,\n",
              "        0.        , 0.        , 0.        , 0.00453089, 0.        ,\n",
              "        0.        , 0.        , 0.        , 0.00453089, 0.00453089,\n",
              "        0.        , 0.        , 0.        , 0.        , 0.00453089]),\n",
              " array([ 0.0421214 ,  0.74501044,  1.44789948,  2.15078852,  2.85367756,\n",
              "         3.5565666 ,  4.25945564,  4.96234468,  5.66523372,  6.36812276,\n",
              "         7.0710118 ,  7.77390084,  8.47678988,  9.17967892,  9.88256796,\n",
              "        10.585457  , 11.28834604, 11.99123508, 12.69412412, 13.39701317,\n",
              "        14.09990221, 14.80279125, 15.50568029, 16.20856933, 16.91145837,\n",
              "        17.61434741]),\n",
              " <BarContainer object of 25 artists>)"
            ]
          },
          "metadata": {},
          "execution_count": 15
        },
        {
          "output_type": "display_data",
          "data": {
            "text/plain": [
              "<Figure size 640x480 with 1 Axes>"
            ],
            "image/png": "[encoded data removed]"
          },
          "metadata": {}
        }
      ],
      "source": [
        "# first, generate uniform random vars\n",
        "# next, sample X by inputting the generated uniform rvs into the function G^-1(U)\n",
        "U = np.random.rand(1000)\n",
        "X = np.sqrt((1/(U*np.pi))-1)\n",
        "\n",
        "# print(X)\n",
        "\n",
        "plt.hist(X, bins = 25, density=True)"
      ]
    },
    {
      "cell_type": "markdown",
      "metadata": {
        "id": "lC7VSz_n9iVF"
      },
      "source": [
        "___\n",
        "**(e)** Repeat parts $(b)$ and $(c)$ for this proposal distribution.\n",
        "___"
      ]
    },
    {
      "cell_type": "markdown",
      "metadata": {
        "id": "vFu541LlPzQ2"
      },
      "source": [
        "### Ans.\n",
        "\n",
        "$$\n",
        "k*\\frac{1}{\\pi(1+x^2)} \\geq \\frac{e^{-x^2/2}}{\\sqrt{2\\pi}} \\\\\n",
        "k \\geq \\frac{\\frac{e^{-x^2/2}}{\\sqrt{2\\pi}}}{\\frac{1}{\\pi(1+x^2)}} \\\\\n",
        "k \\geq  \\frac{e^{-x^2/2}*\\pi(1+x^2)}{\\sqrt{2\\pi}} \\forall\\,x\\in\\mathbb{R}\n",
        "$$\n",
        "\n",
        "\\\\\n",
        "\n",
        "The smallest value of k such that $kg(x)\\geq f(x)\\,\\forall\\,x\\in\\mathbb{R}$ is equal to the maximum value of $\\frac{f(x)}{g(x)}$. $\\frac{f(x)}{g(x)}$ is maximized at $x=1$ so the smallest value of k such that $kg(x)\\geq f(x)\\,\\forall\\,x\\in\\mathbb{R}$ is $k=1.52$\n",
        "\n",
        "\\\\\n",
        "\n",
        "The expected number of samples needed for generating each sample is the number of times that a sample will be rejected before a sample is generated. Therefore, E[number of samples needed for a single acceptance] = 1/P(U $\\leq \\frac{f(x)}{1.52*g(x)}$) where $f(x) = \\frac{e^{-x^2/2}}{\\sqrt{2\\pi}}$ and $g(x) = \\frac{1}{\\pi(1+x^2)}$"
      ]
    },
    {
      "cell_type": "code",
      "execution_count": 46,
      "metadata": {
        "id": "uzJE8B1ZsWoV",
        "colab": {
          "base_uri": "https://localhost:8080/",
          "height": 466
        },
        "outputId": "a1208566-11bf-4055-de46-8afd74321702"
      },
      "outputs": [
        {
          "output_type": "stream",
          "name": "stdout",
          "text": [
            "Average number of samples needed to generate 1000 samples = 7142.857142857143\n",
            "95% confidence interval = [4.353222282163006, 9.93249200355128]\n"
          ]
        },
        {
          "output_type": "display_data",
          "data": {
            "text/plain": [
              "<Figure size 640x480 with 1 Axes>"
            ],
            "image/png": "[encoded data removed]"
          },
          "metadata": {}
        }
      ],
      "source": [
        "U = np.random.rand(1000)\n",
        "V = 1.53*np.random.rand(1000)\n",
        "\n",
        "X = []\n",
        "p = []\n",
        "j = 0\n",
        "\n",
        "for i in range(1000):\n",
        "  if V[i] < 1/(np.pi*(1+U[i]**2)):\n",
        "    X.append(U[i])\n",
        "    p.append(1)\n",
        "    j += 1\n",
        "  else:\n",
        "    if len(p) == j:\n",
        "        p.append(1)\n",
        "    else:\n",
        "      p[j] += 1\n",
        "\n",
        "plt.hist(X, bins=25, density=True)\n",
        "\n",
        "E = np.mean(p)\n",
        "V = np.var(p)\n",
        "\n",
        "print(\"Average number of samples needed to generate 1000 samples = \" + str(1000*E))\n",
        "\n",
        "CI_lower = E - 1.96 * V/np.sqrt(1000)\n",
        "CI_upper = E + 1.96 * V/np.sqrt(1000)\n",
        "print(\"95% confidence interval = [\" + str(CI_lower) + \", \" + str(CI_upper) + \"]\")"
      ]
    }
  ],
  "metadata": {
    "colab": {
      "provenance": []
    },
    "kernelspec": {
      "display_name": "Python 3 (ipykernel)",
      "language": "python",
      "name": "python3"
    },
    "language_info": {
      "codemirror_mode": {
        "name": "ipython",
        "version": 3
      },
      "file_extension": ".py",
      "mimetype": "text/x-python",
      "name": "python",
      "nbconvert_exporter": "python",
      "pygments_lexer": "ipython3",
      "version": "3.9.13"
    }
  },
  "nbformat": 4,
  "nbformat_minor": 0
}